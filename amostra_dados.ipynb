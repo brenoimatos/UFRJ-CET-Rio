{
 "cells": [
  {
   "cell_type": "code",
   "execution_count": 1,
   "metadata": {
    "ExecuteTime": {
     "end_time": "2021-03-08T03:12:44.015905Z",
     "start_time": "2021-03-08T03:12:43.299899Z"
    }
   },
   "outputs": [],
   "source": [
    "import pandas as pd"
   ]
  },
  {
   "cell_type": "code",
   "execution_count": 56,
   "metadata": {
    "ExecuteTime": {
     "end_time": "2021-03-08T03:54:27.869603Z",
     "start_time": "2021-03-08T03:54:27.842035Z"
    }
   },
   "outputs": [
    {
     "data": {
      "text/html": [
       "<div>\n",
       "<style scoped>\n",
       "    .dataframe tbody tr th:only-of-type {\n",
       "        vertical-align: middle;\n",
       "    }\n",
       "\n",
       "    .dataframe tbody tr th {\n",
       "        vertical-align: top;\n",
       "    }\n",
       "\n",
       "    .dataframe thead th {\n",
       "        text-align: right;\n",
       "    }\n",
       "</style>\n",
       "<table border=\"1\" class=\"dataframe\">\n",
       "  <thead>\n",
       "    <tr style=\"text-align: right;\">\n",
       "      <th></th>\n",
       "      <th>index_df</th>\n",
       "      <th>x</th>\n",
       "      <th>y</th>\n",
       "      <th>data-hora</th>\n",
       "      <th>data</th>\n",
       "      <th>dia</th>\n",
       "      <th>mes</th>\n",
       "      <th>ano</th>\n",
       "      <th>tempo</th>\n",
       "      <th>hora</th>\n",
       "      <th>...</th>\n",
       "      <th>c</th>\n",
       "      <th>d</th>\n",
       "      <th>e</th>\n",
       "      <th>f</th>\n",
       "      <th>placa</th>\n",
       "      <th>h</th>\n",
       "      <th>i</th>\n",
       "      <th>j</th>\n",
       "      <th>k</th>\n",
       "      <th>l</th>\n",
       "    </tr>\n",
       "  </thead>\n",
       "  <tbody>\n",
       "    <tr>\n",
       "      <th>0</th>\n",
       "      <td>1</td>\n",
       "      <td>501</td>\n",
       "      <td>1</td>\n",
       "      <td>2019-02-01 00:00:07</td>\n",
       "      <td>2019-02-01</td>\n",
       "      <td>1</td>\n",
       "      <td>2</td>\n",
       "      <td>2019</td>\n",
       "      <td>00:00:07</td>\n",
       "      <td>0</td>\n",
       "      <td>...</td>\n",
       "      <td>68.0</td>\n",
       "      <td>2</td>\n",
       "      <td>3.8</td>\n",
       "      <td>bdac468f1</td>\n",
       "      <td>LRV5999</td>\n",
       "      <td>0</td>\n",
       "      <td>0</td>\n",
       "      <td>NaN</td>\n",
       "      <td>NaN</td>\n",
       "      <td>NaN</td>\n",
       "    </tr>\n",
       "    <tr>\n",
       "      <th>1</th>\n",
       "      <td>2</td>\n",
       "      <td>502</td>\n",
       "      <td>2</td>\n",
       "      <td>2019-02-01 00:00:09</td>\n",
       "      <td>2019-02-01</td>\n",
       "      <td>1</td>\n",
       "      <td>2</td>\n",
       "      <td>2019</td>\n",
       "      <td>00:00:09</td>\n",
       "      <td>0</td>\n",
       "      <td>...</td>\n",
       "      <td>57.0</td>\n",
       "      <td>2</td>\n",
       "      <td>3.8</td>\n",
       "      <td>bdac469a2</td>\n",
       "      <td>LRW4982</td>\n",
       "      <td>0</td>\n",
       "      <td>0</td>\n",
       "      <td>NaN</td>\n",
       "      <td>NaN</td>\n",
       "      <td>NaN</td>\n",
       "    </tr>\n",
       "  </tbody>\n",
       "</table>\n",
       "<p>2 rows × 22 columns</p>\n",
       "</div>"
      ],
      "text/plain": [
       "   index_df    x  y            data-hora        data  dia  mes   ano  \\\n",
       "0         1  501  1  2019-02-01 00:00:07  2019-02-01    1    2  2019   \n",
       "1         2  502  2  2019-02-01 00:00:09  2019-02-01    1    2  2019   \n",
       "\n",
       "      tempo  hora  ...     c  d    e          f    placa  h  i   j   k   l  \n",
       "0  00:00:07     0  ...  68.0  2  3.8  bdac468f1  LRV5999  0  0 NaN NaN NaN  \n",
       "1  00:00:09     0  ...  57.0  2  3.8  bdac469a2  LRW4982  0  0 NaN NaN NaN  \n",
       "\n",
       "[2 rows x 22 columns]"
      ]
     },
     "execution_count": 56,
     "metadata": {},
     "output_type": "execute_result"
    }
   ],
   "source": [
    "colnames = ['index_df', 'x', 'y', 'data-hora', 'data', 'dia', 'mes', \n",
    "            'ano', 'tempo', 'hora', 'a',\n",
    "           'b', 'c', 'd', 'e', 'f', 'placa', 'h', \n",
    "            'i', 'j', 'k', 'l' ]\n",
    "df_veic = pd.read_csv('veic_2019_02.csv_amostra.txt', sep=\",\", names=colnames)\n",
    "df_veic.head(2)"
   ]
  },
  {
   "cell_type": "code",
   "execution_count": 193,
   "metadata": {
    "ExecuteTime": {
     "end_time": "2021-03-08T05:04:19.111238Z",
     "start_time": "2021-03-08T05:04:18.971240Z"
    }
   },
   "outputs": [
    {
     "data": {
      "text/html": [
       "<div>\n",
       "<style scoped>\n",
       "    .dataframe tbody tr th:only-of-type {\n",
       "        vertical-align: middle;\n",
       "    }\n",
       "\n",
       "    .dataframe tbody tr th {\n",
       "        vertical-align: top;\n",
       "    }\n",
       "\n",
       "    .dataframe thead th {\n",
       "        text-align: right;\n",
       "    }\n",
       "</style>\n",
       "<table border=\"1\" class=\"dataframe\">\n",
       "  <thead>\n",
       "    <tr style=\"text-align: right;\">\n",
       "      <th></th>\n",
       "      <th>placa</th>\n",
       "      <th>a</th>\n",
       "      <th>b</th>\n",
       "      <th>c</th>\n",
       "      <th>d</th>\n",
       "      <th>e</th>\n",
       "    </tr>\n",
       "  </thead>\n",
       "  <tbody>\n",
       "    <tr>\n",
       "      <th>0</th>\n",
       "      <td>KPV68771AUTOMÓVEL</td>\n",
       "      <td>20190101000000971024</td>\n",
       "      <td>0101201900000003900CET8-5455</td>\n",
       "      <td>04101911120252015R Conde Baependi Px141</td>\n",
       "      <td>R Catete</td>\n",
       "      <td>B-2293380-4318294</td>\n",
       "    </tr>\n",
       "    <tr>\n",
       "      <th>1</th>\n",
       "      <td>LQR82471AUTOMÓVEL</td>\n",
       "      <td>20190101000001181044</td>\n",
       "      <td>0101201900000103400CET8-5410</td>\n",
       "      <td>04101211220252015Est Bandeirantes Px7967</td>\n",
       "      <td>Tanque</td>\n",
       "      <td>D-2297019-4341377</td>\n",
       "    </tr>\n",
       "    <tr>\n",
       "      <th>2</th>\n",
       "      <td>ETP18901AUTOMÓVEL</td>\n",
       "      <td>20190101000001281014</td>\n",
       "      <td>0101201900000104000CET8-5436</td>\n",
       "      <td>04102411110252015Av Paulo Frontin Px763</td>\n",
       "      <td>Cidade Nova</td>\n",
       "      <td>A-2293149-4320888</td>\n",
       "    </tr>\n",
       "  </tbody>\n",
       "</table>\n",
       "</div>"
      ],
      "text/plain": [
       "               placa                     a                             b  \\\n",
       "0  KPV68771AUTOMÓVEL  20190101000000971024  0101201900000003900CET8-5455   \n",
       "1  LQR82471AUTOMÓVEL  20190101000001181044  0101201900000103400CET8-5410   \n",
       "2  ETP18901AUTOMÓVEL  20190101000001281014  0101201900000104000CET8-5436   \n",
       "\n",
       "                                          c                             d  \\\n",
       "0   04101911120252015R Conde Baependi Px141   R Catete                      \n",
       "1  04101211220252015Est Bandeirantes Px7967   Tanque                        \n",
       "2   04102411110252015Av Paulo Frontin Px763   Cidade Nova                   \n",
       "\n",
       "                   e  \n",
       "0  B-2293380-4318294  \n",
       "1  D-2297019-4341377  \n",
       "2  A-2293149-4320888  "
      ]
     },
     "execution_count": 193,
     "metadata": {},
     "output_type": "execute_result"
    }
   ],
   "source": [
    "# Nome para colunas desconhecidas\n",
    "colnames = ['x', 'y', 'z']\n",
    "# Usando separador '.' apenas para conseguir importar e depois tentar tratar\n",
    "df_ocr = pd.read_csv('movimento_OCR_JAN_2019.txt_amostra.txt', sep='.', names = colnames)\n",
    "\n",
    "def joinStrings(x):\n",
    "    result = ''\n",
    "    for string in x.split():\n",
    "        if string[0].isdigit():\n",
    "            result = '|'.join([result,string])\n",
    "        else:\n",
    "            result = ' '.join([result,string])\n",
    "    return result\n",
    "            \n",
    "# Separando as colunas manualmente\n",
    "df_ocr['placa'] = df_ocr.x.apply(lambda x: x.split()[0])\n",
    "df_ocr['a'] = df_ocr.x.apply(lambda x: x.split()[1])\n",
    "df_ocr['b'] = df_ocr.x.apply(lambda x: x.split()[2])\n",
    "df_ocr['c'] = df_ocr.x.apply(lambda x: joinStrings(x.split('St')[0]).split('|')[3])\n",
    "df_ocr['bairro'] = df_ocr.x.apply(lambda x: x.split('St')[1][:-4])\n",
    "df_ocr['temp'] = df_ocr.x.apply(lambda x: x.split('St')[1][-4:])\n",
    "df_ocr['e'] = df_ocr['temp']+df_ocr['y']+df_ocr['z'].astype(str)\n",
    "df_ocr.drop(['x','temp', 'y', 'z'], axis = 1, inplace=True)\n",
    "\n",
    "# print(df_ocr.x[9].split('St'))\n",
    "# print(df_ocr.c[0].split())\n",
    "df_ocr.head(3)\n",
    "\n"
   ]
  }
 ],
 "metadata": {
  "kernelspec": {
   "display_name": "Python 3",
   "language": "python",
   "name": "python3"
  },
  "language_info": {
   "codemirror_mode": {
    "name": "ipython",
    "version": 3
   },
   "file_extension": ".py",
   "mimetype": "text/x-python",
   "name": "python",
   "nbconvert_exporter": "python",
   "pygments_lexer": "ipython3",
   "version": "3.7.9"
  },
  "toc": {
   "base_numbering": 1,
   "nav_menu": {},
   "number_sections": true,
   "sideBar": true,
   "skip_h1_title": false,
   "title_cell": "Table of Contents",
   "title_sidebar": "Contents",
   "toc_cell": false,
   "toc_position": {},
   "toc_section_display": true,
   "toc_window_display": false
  },
  "varInspector": {
   "cols": {
    "lenName": 16,
    "lenType": 16,
    "lenVar": 40
   },
   "kernels_config": {
    "python": {
     "delete_cmd_postfix": "",
     "delete_cmd_prefix": "del ",
     "library": "var_list.py",
     "varRefreshCmd": "print(var_dic_list())"
    },
    "r": {
     "delete_cmd_postfix": ") ",
     "delete_cmd_prefix": "rm(",
     "library": "var_list.r",
     "varRefreshCmd": "cat(var_dic_list()) "
    }
   },
   "types_to_exclude": [
    "module",
    "function",
    "builtin_function_or_method",
    "instance",
    "_Feature"
   ],
   "window_display": false
  }
 },
 "nbformat": 4,
 "nbformat_minor": 4
}
