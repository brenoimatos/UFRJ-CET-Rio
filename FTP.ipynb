{
 "cells": [
  {
   "cell_type": "code",
   "execution_count": 101,
   "metadata": {},
   "outputs": [],
   "source": [
    "from ftplib import FTP\n",
    "from io import BytesIO"
   ]
  },
  {
   "cell_type": "code",
   "execution_count": 102,
   "metadata": {},
   "outputs": [
    {
     "data": {
      "text/plain": [
       "'230 Logged on'"
      ]
     },
     "execution_count": 102,
     "metadata": {},
     "output_type": "execute_result"
    }
   ],
   "source": [
    "ftp = FTP()\n",
    "ftp.connect('ftp.cet-rio.ddns.com.br',20121)\n",
    "ftp.login('ftp_ufrj','ng*LxVnc$R')"
   ]
  },
  {
   "cell_type": "code",
   "execution_count": 103,
   "metadata": {},
   "outputs": [
    {
     "name": "stdout",
     "output_type": "stream",
     "text": [
      "- -rw-r--r-- 1 ftp ftp       39896746 Jul 22 11:24 OCRs_20210409142628_20210409214233.csv\n",
      "- -rw-r--r-- 1 ftp ftp         230124 Jul 22 11:25 placas_consladelradar_20210414045021.csv\n",
      "- -rw-r--r-- 1 ftp ftp          51826 Jul 21 17:21 placas_sitranavanco_20210523120200.csv.gz\n",
      "- drwxr-xr-x 1 ftp ftp              0 Jul 22 11:15 Testes\n",
      "- -rw-r--r-- 1 ftp ftp             13 Jul 12 17:33 works.txt\n"
     ]
    }
   ],
   "source": [
    "data = []\n",
    "ftp.dir(data.append)\n",
    "for line in data:\n",
    "    print('-', line)"
   ]
  },
  {
   "cell_type": "code",
   "execution_count": 105,
   "metadata": {},
   "outputs": [
    {
     "data": {
      "text/plain": [
       "'OCRs_20210409142628_20210409214233.csv'"
      ]
     },
     "execution_count": 105,
     "metadata": {},
     "output_type": "execute_result"
    }
   ],
   "source": [
    "data[0].split(\" \")[-1]"
   ]
  },
  {
   "cell_type": "code",
   "execution_count": 106,
   "metadata": {},
   "outputs": [],
   "source": [
    "def getFile(ftp, filename):\n",
    "    try:\n",
    "        ftp.retrbinary(\"RETR \" + filename, open(filename, 'wb').write)\n",
    "    except:\n",
    "        print(\"Error\")"
   ]
  },
  {
   "cell_type": "code",
   "execution_count": null,
   "metadata": {},
   "outputs": [],
   "source": [
    "for file in data:\n",
    "    getFile(ftp, file.split(\" \")[-1])"
   ]
  }
 ],
 "metadata": {
  "kernelspec": {
   "display_name": "Python 3",
   "language": "python",
   "name": "python3"
  },
  "language_info": {
   "codemirror_mode": {
    "name": "ipython",
    "version": 3
   },
   "file_extension": ".py",
   "mimetype": "text/x-python",
   "name": "python",
   "nbconvert_exporter": "python",
   "pygments_lexer": "ipython3",
   "version": "3.8.5"
  }
 },
 "nbformat": 4,
 "nbformat_minor": 4
}
